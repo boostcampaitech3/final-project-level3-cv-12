{
 "cells": [
  {
   "cell_type": "code",
   "execution_count": 35,
   "metadata": {},
   "outputs": [],
   "source": [
    "import shutil\n",
    "import os\n",
    "import xml.etree.ElementTree as elemTree"
   ]
  },
  {
   "cell_type": "code",
   "execution_count": 34,
   "metadata": {},
   "outputs": [],
   "source": [
    "data_path = \"/opt/ml/project/final-project-level3-cv-12/dataset/Validation/image/\"\n",
    "to_path = '/opt/ml/project/data/val/images/' #train/val > image 한 폴더로 복사\n",
    "\n",
    "for i in os.listdir(data_path):\n",
    "    for j in os.listdir(data_path+i):\n",
    "        shutil.copy(data_path+i+\"/\"+j,to_path)"
   ]
  },
  {
   "cell_type": "code",
   "execution_count": null,
   "metadata": {},
   "outputs": [],
   "source": []
  },
  {
   "cell_type": "code",
   "execution_count": null,
   "metadata": {},
   "outputs": [],
   "source": [
    "data_path = \"/opt/ml/project/final-project-level3-cv-12/dataset/Validation/label\" #label 경로\n",
    "datalist = os.listdir(data_path)\n",
    "datalist.sort()\n",
    "classes = 0\n",
    "for i in datalist:\n",
    "    for j in os.listdir(f\"{data_path}/{i}\"):\n",
    "        if j.endswith(\"meta.xml\"):\n",
    "            continue\n",
    "        print(f\"{data_path}/{i}/{j}\")\n",
    "        tree = elemTree.parse(f\"{data_path}/{i}/{j}\")\n",
    "        \n",
    "        root = tree.getroot()\n",
    "        \n",
    "        width = int(root.find(\"size\").find('width').text)\n",
    "        height = int(root.find(\"size\").find('height').text)\n",
    "        \n",
    "        with open(f\"/opt/ml/project/data/val/labels/{j[:-3]}txt\",\"w\") as file: #열고싶은 txt 경로\n",
    "            for k in root.findall(\"object\"):\n",
    "                bbox = k.find(\"bndbox\")\n",
    "                x = (int(bbox.find(\"xmin\").text) + int(bbox.find(\"xmax\").text)) / 2 / width   #yolo dataset 형태로 변경\n",
    "                y = (int(bbox.find(\"ymin\").text) + int(bbox.find(\"ymax\").text)) / 2 / height\n",
    "                w = (int(bbox.find(\"xmax\").text) - int(bbox.find(\"xmin\").text)) / width\n",
    "                h = (int(bbox.find(\"ymax\").text) - int(bbox.find(\"ymin\").text)) / height\n",
    "                file.write(f\"{classes} {round(x,7)} {round(y,7)} {round(w,7)} {round(h,7)}\\n\")\n",
    "    classes += 1\n",
    "    print(classes)\n",
    "            "
   ]
  },
  {
   "cell_type": "code",
   "execution_count": 31,
   "metadata": {},
   "outputs": [
    {
     "data": {
      "text/plain": [
       "True"
      ]
     },
     "execution_count": 31,
     "metadata": {},
     "output_type": "execute_result"
    }
   ],
   "source": [
    "len(os.listdir(\"/opt/ml/project/data/train/images\")) == len(os.listdir(\"/opt/ml/project/data/train/labels\"))"
   ]
  }
 ],
 "metadata": {
  "interpreter": {
   "hash": "978d5707b7c196c3831747d301f7e8256aef35df9e61b45ddd657e9ae39cf07e"
  },
  "kernelspec": {
   "display_name": "Python 3.8.5 ('project')",
   "language": "python",
   "name": "python3"
  },
  "language_info": {
   "codemirror_mode": {
    "name": "ipython",
    "version": 3
   },
   "file_extension": ".py",
   "mimetype": "text/x-python",
   "name": "python",
   "nbconvert_exporter": "python",
   "pygments_lexer": "ipython3",
   "version": "3.8.5"
  },
  "orig_nbformat": 4
 },
 "nbformat": 4,
 "nbformat_minor": 2
}
