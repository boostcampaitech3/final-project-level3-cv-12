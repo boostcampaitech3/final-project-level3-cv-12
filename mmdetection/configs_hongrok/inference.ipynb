{
 "cells": [
  {
   "cell_type": "code",
   "execution_count": null,
   "metadata": {},
   "outputs": [],
   "source": [
    "'''\n",
    "document 참고\n",
    "https://mmdetection.readthedocs.io/en/v2.21.0/1_exist_data_model.html\n",
    "\n",
    "한글폰트 설치법\n",
    "../dataset/readme.md 참고\n",
    "'''"
   ]
  },
  {
   "cell_type": "code",
   "execution_count": 7,
   "metadata": {},
   "outputs": [],
   "source": [
    "import matplotlib.pyplot as plt\n",
    "plt.rc('font', family='NanumGothicCoding')\n",
    "\n",
    "import mmcv\n",
    "from mmdet.apis import init_detector, inference_detector, show_result_pyplot"
   ]
  },
  {
   "cell_type": "code",
   "execution_count": 8,
   "metadata": {},
   "outputs": [],
   "source": [
    "def inference_img(config_file, ckpt_file, img_path, score_thr):\n",
    "    \n",
    "    # fig, ax = plt.subplots(1, 1, figsize=(12, 10))\n",
    "    model = init_detector(config_file, ckpt_file, device='cuda:0')\n",
    "\n",
    "    if not isinstance(img_path, list):\n",
    "        img_path = [img_path]\n",
    "    palette=None\n",
    "    results = []\n",
    "    for path in img_path:\n",
    "        \n",
    "        result = inference_detector(model, path)\n",
    "        results.append(result)\n",
    "        model.show_result(path, result, score_thr=score_thr, show=True, \n",
    "                          win_name='result', bbox_color=palette, text_color=(200, 200, 200), mask_color=palette)\n",
    "        plt.show()\n",
    "    return results"
   ]
  },
  {
   "cell_type": "code",
   "execution_count": 9,
   "metadata": {},
   "outputs": [],
   "source": [
    "def inference_video(config_file, ckpt_file, video_path, score_thr):\n",
    "    model = init_detector(config_file, ckpt_file, device='cuda:0')\n",
    "\n",
    "    video = mmcv.VideoReader(video_path)\n",
    "    palette=None\n",
    "    for frame in video:\n",
    "        result = inference_detector(model, frame)\n",
    "        model.show_result(frame, result, show=True, score_thr=score_thr,\n",
    "                          win_name='result', bbox_color=palette,text_color=(200, 200, 200), mask_color=palette)\n",
    "        break"
   ]
  },
  {
   "cell_type": "code",
   "execution_count": 11,
   "metadata": {},
   "outputs": [],
   "source": [
    "from glob import glob\n",
    "config_file = '/opt/ml/project/final-project-level3-cv-12/mmdetection/configs_hongrok/sparse_rcnn/sparse_rcnn_r50_fpn_1x_coco.py'\n",
    "ckpt_file = '/opt/ml/project/final-project-level3-cv-12/mmdetection/work_dirs/sparse_rcnn_r50_fpn_1x_coco/latest.pth'\n",
    "\n",
    "test_files = glob('../../dataset/Test/*')\n",
    "img_path = [f for f in test_files if f.endswith('jpg')] + \\\n",
    "    ['../../dataset/reTraining/image/30125_농심신라면120G/30125_00_m_1.jpg', '../../dataset/reValidation/image/30125_농심신라면120G/30125_00_m_3.jpg']\n",
    "video_path = [f for f in test_files if not f.endswith('jpg')][0]"
   ]
  },
  {
   "cell_type": "code",
   "execution_count": null,
   "metadata": {},
   "outputs": [],
   "source": [
    "inference_img(config_file, ckpt_file, img_path , score_thr = 0.05)"
   ]
  },
  {
   "cell_type": "code",
   "execution_count": null,
   "metadata": {},
   "outputs": [],
   "source": [
    "inference_video(config_file, ckpt_file, video_path , score_thr = 0.1)"
   ]
  },
  {
   "cell_type": "code",
   "execution_count": null,
   "metadata": {},
   "outputs": [],
   "source": []
  }
 ],
 "metadata": {
  "interpreter": {
   "hash": "978d5707b7c196c3831747d301f7e8256aef35df9e61b45ddd657e9ae39cf07e"
  },
  "kernelspec": {
   "display_name": "Python 3 (ipykernel)",
   "language": "python",
   "name": "python3"
  },
  "language_info": {
   "codemirror_mode": {
    "name": "ipython",
    "version": 3
   },
   "file_extension": ".py",
   "mimetype": "text/x-python",
   "name": "python",
   "nbconvert_exporter": "python",
   "pygments_lexer": "ipython3",
   "version": "3.8.13"
  }
 },
 "nbformat": 4,
 "nbformat_minor": 4
}
