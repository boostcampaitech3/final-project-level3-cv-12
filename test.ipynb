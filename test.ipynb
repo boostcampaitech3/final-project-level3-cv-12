{
 "cells": [
  {
   "cell_type": "code",
   "execution_count": 2,
   "metadata": {},
   "outputs": [
    {
     "ename": "ModuleNotFoundError",
     "evalue": "No module named 'utils.datasets'",
     "output_type": "error",
     "traceback": [
      "\u001b[0;31m---------------------------------------------------------------------------\u001b[0m",
      "\u001b[0;31mModuleNotFoundError\u001b[0m                       Traceback (most recent call last)",
      "\u001b[1;32m/opt/ml/final-project-level3-cv-12/test.ipynb Cell 1'\u001b[0m in \u001b[0;36m<cell line: 2>\u001b[0;34m()\u001b[0m\n\u001b[1;32m      <a href='vscode-notebook-cell://ssh-remote%2B49.50.164.224/opt/ml/final-project-level3-cv-12/test.ipynb#ch0000000vscode-remote?line=0'>1</a>\u001b[0m \u001b[39mfrom\u001b[39;00m \u001b[39mmodules\u001b[39;00m \u001b[39mimport\u001b[39;00m Human_detect\n\u001b[0;32m----> <a href='vscode-notebook-cell://ssh-remote%2B49.50.164.224/opt/ml/final-project-level3-cv-12/test.ipynb#ch0000000vscode-remote?line=1'>2</a>\u001b[0m \u001b[39mfrom\u001b[39;00m \u001b[39mmodules\u001b[39;00m \u001b[39mimport\u001b[39;00m ramen_detect\n\u001b[1;32m      <a href='vscode-notebook-cell://ssh-remote%2B49.50.164.224/opt/ml/final-project-level3-cv-12/test.ipynb#ch0000000vscode-remote?line=2'>3</a>\u001b[0m \u001b[39mimport\u001b[39;00m \u001b[39mcv2\u001b[39;00m\n\u001b[1;32m      <a href='vscode-notebook-cell://ssh-remote%2B49.50.164.224/opt/ml/final-project-level3-cv-12/test.ipynb#ch0000000vscode-remote?line=4'>5</a>\u001b[0m file_path1 \u001b[39m=\u001b[39m \u001b[39m'\u001b[39m\u001b[39m/opt/ml/final-project-level3-cv-12/20220518_212235.jpg\u001b[39m\u001b[39m'\u001b[39m\n",
      "File \u001b[0;32m~/final-project-level3-cv-12/modules/ramen_detect.py:6\u001b[0m, in \u001b[0;36m<module>\u001b[0;34m\u001b[0m\n\u001b[1;32m      <a href='file:///opt/ml/final-project-level3-cv-12/modules/ramen_detect.py?line=3'>4</a>\u001b[0m \u001b[39mfrom\u001b[39;00m \u001b[39mutils\u001b[39;00m\u001b[39m.\u001b[39;00m\u001b[39mtorch_utils\u001b[39;00m \u001b[39mimport\u001b[39;00m select_device\n\u001b[1;32m      <a href='file:///opt/ml/final-project-level3-cv-12/modules/ramen_detect.py?line=4'>5</a>\u001b[0m \u001b[39mfrom\u001b[39;00m \u001b[39mutils\u001b[39;00m\u001b[39m.\u001b[39;00m\u001b[39mgeneral\u001b[39;00m \u001b[39mimport\u001b[39;00m check_img_size , non_max_suppression,scale_coords,xyxy2xywh\n\u001b[0;32m----> <a href='file:///opt/ml/final-project-level3-cv-12/modules/ramen_detect.py?line=5'>6</a>\u001b[0m \u001b[39mfrom\u001b[39;00m \u001b[39mutils\u001b[39;00m\u001b[39m.\u001b[39;00m\u001b[39mdatasets\u001b[39;00m \u001b[39mimport\u001b[39;00m LoadImages\n\u001b[1;32m      <a href='file:///opt/ml/final-project-level3-cv-12/modules/ramen_detect.py?line=6'>7</a>\u001b[0m \u001b[39mfrom\u001b[39;00m \u001b[39mpathlib\u001b[39;00m \u001b[39mimport\u001b[39;00m Path\n\u001b[1;32m      <a href='file:///opt/ml/final-project-level3-cv-12/modules/ramen_detect.py?line=8'>9</a>\u001b[0m \u001b[39mdef\u001b[39;00m \u001b[39mramen_detect\u001b[39m(img_source):\n",
      "\u001b[0;31mModuleNotFoundError\u001b[0m: No module named 'utils.datasets'"
     ]
    }
   ],
   "source": [
    "from modules import Human_detect\n",
    "import cv2\n",
    "\n",
    "file_path1 = '/opt/ml/final-project-level3-cv-12/20220518_212235.jpg'\n",
    "file_path2 = '/opt/ml/final-project-level3-cv-12/20220518_212247.jpg'\n",
    "\n",
    "img1 = cv2.imread(file_path1)\n",
    "img1 = cv2.cvtColor(img1,cv2.COLOR_BGR2RGB)\n",
    "img2 = cv2.imread(file_path2)\n",
    "img2 = cv2.cvtColor(img2,cv2.COLOR_BGR2RGB)\n",
    "\n",
    "model = Human_detect.get_model()\n",
    "predict = Human_detect.detect\n",
    "output1 = predict(img1,model)\n",
    "output2 = predict(img2,model)\n",
    "\n"
   ]
  },
  {
   "cell_type": "code",
   "execution_count": 6,
   "metadata": {},
   "outputs": [
    {
     "name": "stdout",
     "output_type": "stream",
     "text": [
      "False\n",
      "False\n"
     ]
    }
   ],
   "source": [
    "print(output1)\n",
    "print(output2)"
   ]
  },
  {
   "cell_type": "code",
   "execution_count": 7,
   "metadata": {},
   "outputs": [],
   "source": [
    "import torch\n",
    "checkpoint = '/opt/ml/final-project-level3-cv-12/best.pt'\n",
    "model2 = torch.load(checkpoint)\n"
   ]
  },
  {
   "cell_type": "code",
   "execution_count": 10,
   "metadata": {},
   "outputs": [
    {
     "ename": "TypeError",
     "evalue": "'dict' object is not callable",
     "output_type": "error",
     "traceback": [
      "\u001b[0;31m---------------------------------------------------------------------------\u001b[0m",
      "\u001b[0;31mTypeError\u001b[0m                                 Traceback (most recent call last)",
      "\u001b[1;32m/opt/ml/final-project-level3-cv-12/test.ipynb Cell 4'\u001b[0m in \u001b[0;36m<cell line: 1>\u001b[0;34m()\u001b[0m\n\u001b[0;32m----> <a href='vscode-notebook-cell://ssh-remote%2B49.50.164.224/opt/ml/final-project-level3-cv-12/test.ipynb#ch0000003vscode-remote?line=0'>1</a>\u001b[0m output3 \u001b[39m=\u001b[39m model2(file_path1)\n",
      "\u001b[0;31mTypeError\u001b[0m: 'dict' object is not callable"
     ]
    }
   ],
   "source": [
    "output3 = model2(file_path1)"
   ]
  },
  {
   "cell_type": "code",
   "execution_count": null,
   "metadata": {},
   "outputs": [],
   "source": []
  }
 ],
 "metadata": {
  "interpreter": {
   "hash": "d4d1e4263499bec80672ea0156c357c1ee493ec2b1c70f0acce89fc37c4a6abe"
  },
  "kernelspec": {
   "display_name": "Python ('fastapi')",
   "language": "python",
   "name": "python3"
  },
  "language_info": {
   "codemirror_mode": {
    "name": "ipython",
    "version": 3
   },
   "file_extension": ".py",
   "mimetype": "text/x-python",
   "name": "python",
   "nbconvert_exporter": "python",
   "pygments_lexer": "ipython3",
   "version": ""
  },
  "orig_nbformat": 4
 },
 "nbformat": 4,
 "nbformat_minor": 2
}
